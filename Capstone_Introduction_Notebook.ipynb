{
    "cells": [
        {
            "cell_type": "markdown",
            "metadata": {
                "collapsed": true
            },
            "source": "# Notebook for Coursera DataScience Capstone Project"
        },
        {
            "cell_type": "code",
            "execution_count": 2,
            "metadata": {},
            "outputs": [
                {
                    "name": "stdout",
                    "output_type": "stream",
                    "text": "Hello Capstone Project Course!\n"
                }
            ],
            "source": "import pandas as pd\nimport numpy as np\nprint('Hello Capstone Project Course!')"
        },
        {
            "cell_type": "markdown",
            "metadata": {},
            "source": "## Problem 1/ Segmenting and Clustering Neighborhoods in Toronto. Problem 2, and Problem 3 below."
        },
        {
            "cell_type": "code",
            "execution_count": 70,
            "metadata": {},
            "outputs": [
                {
                    "name": "stdout",
                    "output_type": "stream",
                    "text": "Requirement already satisfied: beautifulsoup4 in /opt/conda/envs/Python36/lib/python3.6/site-packages (4.7.1)\nRequirement already satisfied: soupsieve>=1.2 in /opt/conda/envs/Python36/lib/python3.6/site-packages (from beautifulsoup4) (1.7.1)\nRequirement already satisfied: lxml in /opt/conda/envs/Python36/lib/python3.6/site-packages (4.3.1)\nSolving environment: done\n\n## Package Plan ##\n\n  environment location: /opt/conda/envs/Python36\n\n  added / updated specs: \n    - folium=0.5.0\n\n\nThe following packages will be downloaded:\n\n    package                    |            build\n    ---------------------------|-----------------\n    altair-4.0.1               |             py_0         575 KB  conda-forge\n    ca-certificates-2019.11.28 |       hecc5488_0         145 KB  conda-forge\n    python_abi-3.6             |          1_cp36m           4 KB  conda-forge\n    openssl-1.1.1e             |       h516909a_0         2.1 MB  conda-forge\n    folium-0.5.0               |             py_0          45 KB  conda-forge\n    vincent-0.4.4              |             py_1          28 KB  conda-forge\n    certifi-2019.11.28         |   py36h9f0ad1d_1         149 KB  conda-forge\n    branca-0.4.0               |             py_0          26 KB  conda-forge\n    ------------------------------------------------------------\n                                           Total:         3.1 MB\n\nThe following NEW packages will be INSTALLED:\n\n    altair:          4.0.1-py_0        conda-forge\n    branca:          0.4.0-py_0        conda-forge\n    folium:          0.5.0-py_0        conda-forge\n    python_abi:      3.6-1_cp36m       conda-forge\n    vincent:         0.4.4-py_1        conda-forge\n\nThe following packages will be UPDATED:\n\n    ca-certificates: 2019.11.27-0                  --> 2019.11.28-hecc5488_0     conda-forge\n    certifi:         2019.11.28-py36_0             --> 2019.11.28-py36h9f0ad1d_1 conda-forge\n    openssl:         1.1.1d-h7b6447c_3             --> 1.1.1e-h516909a_0         conda-forge\n\n\nDownloading and Extracting Packages\naltair-4.0.1         | 575 KB    | ##################################### | 100% \nca-certificates-2019 | 145 KB    | ##################################### | 100% \npython_abi-3.6       | 4 KB      | ##################################### | 100% \nopenssl-1.1.1e       | 2.1 MB    | ##################################### | 100% \nfolium-0.5.0         | 45 KB     | ##################################### | 100% \nvincent-0.4.4        | 28 KB     | ##################################### | 100% \ncertifi-2019.11.28   | 149 KB    | ##################################### | 100% \nbranca-0.4.0         | 26 KB     | ##################################### | 100% \nPreparing transaction: done\nVerifying transaction: done\nExecuting transaction: done\nFolium installed\nLibraries imported.\n"
                }
            ],
            "source": "!pip install beautifulsoup4\n!pip install lxml\nimport requests # library to handle requests\nimport pandas as pd # library for data analsysis\nimport numpy as np # library to handle data in a vectorized manner\nimport random # library for random number generation\n\n#!conda install -c conda-forge geopy --yes \nfrom geopy.geocoders import Nominatim # module to convert an address into latitude and longitude values\n\n# libraries for displaying images\nfrom IPython.display import Image \nfrom IPython.core.display import HTML \n\n\nfrom IPython.display import display_html\nimport pandas as pd\nimport numpy as np\n    \n# tranforming json file into a pandas dataframe library\nfrom pandas.io.json import json_normalize\n\n!conda install -c conda-forge folium=0.5.0 --yes\nimport folium # plotting library\nfrom bs4 import BeautifulSoup\nfrom sklearn.cluster import KMeans\nimport matplotlib.cm as cm\nimport matplotlib.colors as colors\n\nprint('Folium installed')\nprint('Libraries imported.')"
        },
        {
            "cell_type": "code",
            "execution_count": 77,
            "metadata": {},
            "outputs": [
                {
                    "name": "stdout",
                    "output_type": "stream",
                    "text": "<title>List of postal codes of Canada: M - Wikipedia</title>\n"
                },
                {
                    "data": {
                        "text/html": "<table cellpadding=\"2\" cellspacing=\"0\" rules=\"all\" style=\"width:100%; border-collapse:collapse; border:1px solid #ccc;\">\n<tbody><tr>\n<td style=\"width:11%; vertical-align:top; color:#ccc;\">\n<p><b>M1A</b><br/><span style=\"font-size:80%;\"><i>Not assigned</i></span>\n</p>\n</td>\n<td style=\"width:11%; vertical-align:top; color:#ccc;\">\n<p><b>M2A</b><br/><span style=\"font-size:80%;\"><i>Not assigned</i></span>\n</p>\n</td>\n<td style=\"width:11%; vertical-align:top;\">\n<p><b>M3A</b><br/><span style=\"font-size:80%;\"><a href=\"/wiki/North_York\" title=\"North York\">North York</a><br/>(<a href=\"/wiki/Parkwoods\" title=\"Parkwoods\">Parkwoods</a>)</span>\n</p>\n</td>\n<td style=\"width:11%; vertical-align:top;\">\n<p><b>M4A</b><br/><span style=\"font-size:80%;\"><a href=\"/wiki/North_York\" title=\"North York\">North York</a><br/>(<a href=\"/wiki/Victoria_Village\" title=\"Victoria Village\">Victoria Village</a>)</span>\n</p>\n</td>\n<td style=\"width:11%; vertical-align:top;\">\n<p><b>M5A</b><br/><span style=\"font-size:80%;\"><a href=\"/wiki/Downtown_Toronto\" title=\"Downtown Toronto\">Downtown Toronto</a><br/>(<a href=\"/wiki/Regent_Park\" title=\"Regent Park\">Regent Park</a> / <a class=\"mw-redirect\" href=\"/wiki/Harbourfront,_Toronto\" title=\"Harbourfront, Toronto\">Harbourfront</a>)</span>\n</p>\n</td>\n<td style=\"width:11%; vertical-align:top;\">\n<p><b>M6A</b><br/><span style=\"font-size:80%;\"><a href=\"/wiki/North_York\" title=\"North York\">North York</a><br/>(<a href=\"/wiki/Lawrence_Manor\" title=\"Lawrence Manor\">Lawrence Manor</a> / <a href=\"/wiki/Lawrence_Heights\" title=\"Lawrence Heights\">Lawrence Heights</a>)</span>\n</p>\n</td>\n<td style=\"width:11%; vertical-align:top;\">\n<p><b>M7A</b><br/><span style=\"font-size:80%;\"><a href=\"/wiki/Queen%27s_Park_(Toronto)\" title=\"Queen's Park (Toronto)\">Queen's Park</a><br/> / <a class=\"mw-redirect\" href=\"/wiki/Ontario_Provincial_Government\" title=\"Ontario Provincial Government\">Ontario Provincial Government</a></span>\n</p>\n</td>\n<td style=\"width:11%; vertical-align:top; color:#ccc;\">\n<p><b>M8A</b><br/><span style=\"font-size:80%;\"><i>Not assigned</i></span>\n</p>\n</td>\n<td style=\"width:11%; vertical-align:top;\">\n<p><b>M9A</b><br/><span style=\"font-size:80%;\"><a href=\"/wiki/Etobicoke\" title=\"Etobicoke\">Etobicoke</a><br/>(<a class=\"mw-redirect\" href=\"/wiki/Islington_Avenue\" title=\"Islington Avenue\">Islington Avenue</a>)</span>\n</p>\n</td></tr>\n<tr>\n<td style=\"vertical-align:top;\">\n<p><b>M1B</b><br/><span style=\"font-size:80%;\"><a href=\"/wiki/Scarborough,_Toronto\" title=\"Scarborough, Toronto\">Scarborough</a><br/>(<a href=\"/wiki/Malvern,_Toronto\" title=\"Malvern, Toronto\">Malvern</a> / <a href=\"/wiki/Rouge,_Toronto\" title=\"Rouge, Toronto\">Rouge</a>)</span>\n</p>\n</td>\n<td style=\"vertical-align:top; color:#ccc;\">\n<p><b>M2B</b><br/><span style=\"font-size:80%;\"><i>Not assigned</i></span>\n</p>\n</td>\n<td style=\"vertical-align:top;\">\n<p><b>M3B</b><br/><span style=\"font-size:80%;\"><a href=\"/wiki/North_York\" title=\"North York\">North York</a><br/>(<a href=\"/wiki/Don_Mills\" title=\"Don Mills\">Don Mills</a>)<br/>North</span>\n</p>\n</td>\n<td style=\"vertical-align:top;\">\n<p><b>M4B</b><br/><span style=\"font-size:80%;\"><a href=\"/wiki/East_York\" title=\"East York\">East York</a><br/>(<a class=\"mw-redirect\" href=\"/wiki/Parkview_Hill\" title=\"Parkview Hill\">Parkview Hill</a> / <a class=\"mw-redirect\" href=\"/wiki/Woodbine_Gardens\" title=\"Woodbine Gardens\">Woodbine Gardens</a>)</span>\n</p>\n</td>\n<td style=\"vertical-align:top;\">\n<p><b>M5B</b><br/><span style=\"font-size:80%;\"><a href=\"/wiki/Downtown_Toronto\" title=\"Downtown Toronto\">Downtown Toronto</a><br/>(<a href=\"/wiki/Garden_District,_Toronto\" title=\"Garden District, Toronto\">Garden District</a>, <a href=\"/wiki/Ryerson_University\" title=\"Ryerson University\">Ryerson</a>)</span>\n</p>\n</td>\n<td style=\"vertical-align:top;\">\n<p><b>M6B</b><br/><span style=\"font-size:80%;\"><a href=\"/wiki/North_York\" title=\"North York\">North York</a><br/>(Glencairn)</span>\n</p>\n</td>\n<td style=\"vertical-align:top; color:#ccc;\">\n<p><b>M7B</b><br/><span style=\"font-size:80%;\"><i>Not assigned</i></span>\n</p>\n</td>\n<td style=\"vertical-align:top; color:#ccc;\">\n<p><b>M8B</b><br/><span style=\"font-size:80%;\"><i>Not assigned</i></span>\n</p>\n</td>\n<td style=\"vertical-align:top;\">\n<p><b>M9B</b><br/><span style=\"font-size:80%;\"><a href=\"/wiki/Etobicoke\" title=\"Etobicoke\">Etobicoke</a><br/>(<a class=\"mw-redirect\" href=\"/wiki/West_Deane_Park\" title=\"West Deane Park\">West Deane Park</a> / <a href=\"/wiki/Princess_Gardens\" title=\"Princess Gardens\">Princess Gardens</a> / <a class=\"mw-redirect\" href=\"/wiki/Martin_Grove_Road\" title=\"Martin Grove Road\">Martin Grove</a> / <a class=\"mw-redirect\" href=\"/wiki/Islington,_Toronto\" title=\"Islington, Toronto\">Islington</a> / Cloverdale)</span>\n</p>\n</td></tr>\n<tr>\n<td style=\"vertical-align:top;\">\n<p><b>M1C</b><br/><span style=\"font-size:80%;\"><a href=\"/wiki/Scarborough,_Toronto\" title=\"Scarborough, Toronto\">Scarborough</a><br/>(<a class=\"mw-redirect\" href=\"/wiki/Rouge_Hill\" title=\"Rouge Hill\">Rouge Hill</a> / <a class=\"mw-redirect\" href=\"/wiki/Port_Union,_Ontario\" title=\"Port Union, Ontario\">Port Union</a> / <a href=\"/wiki/Highland_Creek,_Toronto\" title=\"Highland Creek, Toronto\">Highland Creek</a>)</span>\n</p>\n</td>\n<td style=\"vertical-align:top; color:#ccc;\">\n<p><b>M2C</b><br/><span style=\"font-size:80%;\"><i>Not assigned</i></span>\n</p>\n</td>\n<td style=\"vertical-align:top;\">\n<p><b>M3C</b><br/><span style=\"font-size:80%;\"><a href=\"/wiki/North_York\" title=\"North York\">North York</a><br/>(<a href=\"/wiki/Don_Mills\" title=\"Don Mills\">Don Mills</a>)<br/>South<br/>(<a href=\"/wiki/Flemingdon_Park\" title=\"Flemingdon Park\">Flemingdon Park</a>)</span>\n</p>\n</td>\n<td style=\"vertical-align:top;\">\n<p><b>M4C</b><br/><span style=\"font-size:80%;\"><a href=\"/wiki/East_York\" title=\"East York\">East York</a><br/>(<a class=\"mw-redirect\" href=\"/wiki/Woodbine_Heights\" title=\"Woodbine Heights\">Woodbine Heights</a>)</span>\n</p>\n</td>\n<td style=\"vertical-align:top;\">\n<p><b>M5C</b><br/><span style=\"font-size:80%;\"><a href=\"/wiki/Downtown_Toronto\" title=\"Downtown Toronto\">Downtown Toronto</a><br/>(<a href=\"/wiki/St._James_Town\" title=\"St. James Town\">St. James Town</a>)</span>\n</p>\n</td>\n<td style=\"vertical-align:top;\">\n<p><b>M6C</b><br/><span style=\"font-size:80%;\"><a href=\"/wiki/York,_Toronto\" title=\"York, Toronto\">York</a><br/>(<a href=\"/wiki/Humewood-Cedarvale\" title=\"Humewood-Cedarvale\">Humewood-Cedarvale</a>)</span>\n</p>\n</td>\n<td style=\"vertical-align:top; color:#ccc;\">\n<p><b>M7C</b><br/><span style=\"font-size:80%;\"><i>Not assigned</i></span>\n</p>\n</td>\n<td style=\"vertical-align:top; color:#ccc;\">\n<p><b>M8C</b><br/><span style=\"font-size:80%;\"><i>Not assigned</i></span>\n</p>\n</td>\n<td style=\"vertical-align:top;\">\n<p><b>M9C</b><br/><span style=\"font-size:80%;\"><a href=\"/wiki/Etobicoke\" title=\"Etobicoke\">Etobicoke</a><br/>(Eringate / Bloordale Gardens / Old Burnhamthorpe / <a href=\"/wiki/Markland_Wood\" title=\"Markland Wood\">Markland Wood</a>)</span>\n</p>\n</td></tr>\n<tr>\n<td style=\"vertical-align:top;\">\n<p><b>M1E</b><br/><span style=\"font-size:80%;\"><a href=\"/wiki/Scarborough,_Toronto\" title=\"Scarborough, Toronto\">Scarborough</a><br/>(<a href=\"/wiki/Guildwood\" title=\"Guildwood\">Guildwood</a> / <a href=\"/wiki/Morningside,_Toronto\" title=\"Morningside, Toronto\">Morningside</a> / <a href=\"/wiki/West_Hill,_Toronto\" title=\"West Hill, Toronto\">West Hill</a>)</span>\n</p>\n</td>\n<td style=\"vertical-align:top; color:#ccc;\">\n<p><b>M2E</b><br/><span style=\"font-size:80%;\"><i>Not assigned</i></span>\n</p>\n</td>\n<td style=\"vertical-align:top; color:#ccc;\">\n<p><b>M3E</b><br/><span style=\"font-size:80%;\"><i>Not assigned</i></span>\n</p>\n</td>\n<td style=\"vertical-align:top;\">\n<p><b>M4E</b><br/><span style=\"font-size:80%;\">East Toronto<br/>(<a href=\"/wiki/The_Beaches\" title=\"The Beaches\">The Beaches</a>)</span>\n</p>\n</td>\n<td style=\"vertical-align:top;\">\n<p><b>M5E</b><br/><span style=\"font-size:80%;\"><a href=\"/wiki/Downtown_Toronto\" title=\"Downtown Toronto\">Downtown Toronto</a><br/>(Berczy Park)</span>\n</p>\n</td>\n<td style=\"vertical-align:top;\">\n<p><b>M6E</b><br/><span style=\"font-size:80%;\"><a href=\"/wiki/York,_Toronto\" title=\"York, Toronto\">York</a><br/>(<a class=\"mw-redirect\" href=\"/wiki/Caledonia-Fairbanks\" title=\"Caledonia-Fairbanks\">Caledonia-Fairbanks</a>)</span>\n</p>\n</td>\n<td style=\"vertical-align:top; color:#ccc;\">\n<p><b>M7E</b><br/><span style=\"font-size:80%;\"><i>Not assigned</i></span>\n</p>\n</td>\n<td style=\"vertical-align:top; color:#ccc;\">\n<p><b>M8E</b><br/><span style=\"font-size:80%;\"><i>Not assigned</i></span>\n</p>\n</td>\n<td style=\"vertical-align:top; color:#ccc;\">\n<p><b>M9E</b><br/><span style=\"font-size:80%;\"><i>Not assigned</i></span>\n</p>\n</td></tr>\n<tr>\n<td style=\"vertical-align:top;\">\n<p><b>M1G</b><br/><span style=\"font-size:80%;\"><a href=\"/wiki/Scarborough,_Toronto\" title=\"Scarborough, Toronto\">Scarborough</a><br/>(<a href=\"/wiki/Woburn,_Toronto\" title=\"Woburn, Toronto\">Woburn</a>)</span>\n</p>\n</td>\n<td style=\"vertical-align:top; color:#ccc;\">\n<p><b>M2G</b><br/><span style=\"font-size:80%;\"><i>Not assigned</i></span>\n</p>\n</td>\n<td style=\"vertical-align:top; color:#ccc;\">\n<p><b>M3G</b><br/><span style=\"font-size:80%;\"><i>Not assigned</i></span>\n</p>\n</td>\n<td style=\"vertical-align:top;\">\n<p><b>M4G</b><br/><span style=\"font-size:80%;\"><a href=\"/wiki/East_York\" title=\"East York\">East York</a><br/>(<a href=\"/wiki/Leaside\" title=\"Leaside\">Leaside</a>)</span>\n</p>\n</td>\n<td style=\"vertical-align:top;\">\n<p><b>M5G</b><br/><span style=\"font-size:80%;\"><a href=\"/wiki/Downtown_Toronto\" title=\"Downtown Toronto\">Downtown Toronto</a><br/>(Central <a href=\"/wiki/Bay_Street\" title=\"Bay Street\">Bay Street</a>)</span>\n</p>\n</td>\n<td style=\"vertical-align:top;\">\n<p><b>M6G</b><br/><span style=\"font-size:80%;\"><a href=\"/wiki/Downtown_Toronto\" title=\"Downtown Toronto\">Downtown Toronto</a><br/>(Christie)</span>\n</p>\n</td>\n<td style=\"vertical-align:top; color:#ccc;\">\n<p><b>M7G</b><br/><span style=\"font-size:80%;\"><i>Not assigned</i></span>\n</p>\n</td>\n<td style=\"vertical-align:top; color:#ccc;\">\n<p><b>M8G</b><br/><span style=\"font-size:80%;\"><i>Not assigned</i></span>\n</p>\n</td>\n<td style=\"vertical-align:top; color:#ccc;\">\n<p><b>M9G</b><br/><span style=\"font-size:80%;\"><i>Not assigned</i></span>\n</p>\n</td></tr>\n<tr>\n<td style=\"vertical-align:top;\">\n<p><b>M1H</b><br/><span style=\"font-size:80%;\"><a href=\"/wiki/Scarborough,_Toronto\" title=\"Scarborough, Toronto\">Scarborough</a><br/>(<a href=\"/wiki/Woburn,_Toronto\" title=\"Woburn, Toronto\">Cedarbrae</a>)</span>\n</p>\n</td>\n<td style=\"vertical-align:top;\">\n<p><b>M2H</b><br/><span style=\"font-size:80%;\"><a href=\"/wiki/North_York\" title=\"North York\">North York</a><br/>(<a href=\"/wiki/Hillcrest_Village\" title=\"Hillcrest Village\">Hillcrest Village</a>)</span>\n</p>\n</td>\n<td style=\"vertical-align:top;\">\n<p><b>M3H</b><br/><span style=\"font-size:80%;\"><a href=\"/wiki/North_York\" title=\"North York\">North York</a><br/>(<a href=\"/wiki/Bathurst_Manor\" title=\"Bathurst Manor\">Bathurst Manor</a> / <a class=\"mw-redirect\" href=\"/wiki/Wilson_Heights,_Toronto\" title=\"Wilson Heights, Toronto\">Wilson Heights</a> / <a href=\"/wiki/Downsview\" title=\"Downsview\">Downsview</a> North)</span>\n</p>\n</td>\n<td style=\"vertical-align:top;\">\n<p><b>M4H</b><br/><span style=\"font-size:80%;\"><a href=\"/wiki/East_York\" title=\"East York\">East York</a><br/>(<a href=\"/wiki/Thorncliffe_Park\" title=\"Thorncliffe Park\">Thorncliffe Park</a>)</span>\n</p>\n</td>\n<td style=\"vertical-align:top;\">\n<p><b>M5H</b><br/><span style=\"font-size:80%;\"><a href=\"/wiki/Downtown_Toronto\" title=\"Downtown Toronto\">Downtown Toronto</a><br/>(<a class=\"mw-redirect\" href=\"/wiki/Richmond_Street\" title=\"Richmond Street\">Richmond</a> / Adelaide / <a href=\"/wiki/King_Street_(Toronto)\" title=\"King Street (Toronto)\">King</a>)</span>\n</p>\n</td>\n<td style=\"vertical-align:top;\">\n<p><b>M6H</b><br/><span style=\"font-size:80%;\">West Toronto<br/>(<a href=\"/wiki/Dufferin_Street\" title=\"Dufferin Street\">Dufferin</a> / <a class=\"mw-redirect\" href=\"/wiki/Dovercourt_Village\" title=\"Dovercourt Village\">Dovercourt Village</a>)</span>\n</p>\n</td>\n<td style=\"vertical-align:top; color:#ccc;\">\n<p><b>M7H</b><br/><span style=\"font-size:80%;\"><i>Not assigned</i></span>\n</p>\n</td>\n<td style=\"vertical-align:top; color:#ccc;\">\n<p><b>M8H</b><br/><span style=\"font-size:80%;\"><i>Not assigned</i></span>\n</p>\n</td>\n<td style=\"vertical-align:top; color:#ccc;\">\n<p><b>M9H</b><br/><span style=\"font-size:80%;\"><i>Not assigned</i></span>\n</p>\n</td></tr>\n<tr>\n<td style=\"vertical-align:top;\">\n<p><b>M1J</b><br/><span style=\"font-size:80%;\"><a href=\"/wiki/Scarborough,_Toronto\" title=\"Scarborough, Toronto\">Scarborough</a><br/>(<a href=\"/wiki/Scarborough_Village\" title=\"Scarborough Village\">Scarborough Village</a>)</span>\n</p>\n</td>\n<td style=\"vertical-align:top;\">\n<p><b>M2J</b><br/><span style=\"font-size:80%;\"><a href=\"/wiki/North_York\" title=\"North York\">North York</a><br/>(Fairview / <a href=\"/wiki/Henry_Farm\" title=\"Henry Farm\">Henry Farm</a> / Oriole)</span>\n</p>\n</td>\n<td style=\"vertical-align:top;\">\n<p><b>M3J</b><br/><span style=\"font-size:80%;\"><a href=\"/wiki/North_York\" title=\"North York\">North York</a><br/>(<a href=\"/wiki/York_University_Heights\" title=\"York University Heights\">Northwood Park</a> / <a href=\"/wiki/York_University\" title=\"York University\">York University</a>)</span>\n</p>\n</td>\n<td style=\"vertical-align:top;\">\n<p><b>M4J</b><br/><span style=\"font-size:80%;\"><a href=\"/wiki/East_York\" title=\"East York\">East York</a><br/>East Toronto<br/>(<a class=\"mw-redirect\" href=\"/wiki/The_Danforth\" title=\"The Danforth\">The Danforth</a> <br/> East)</span>\n</p>\n</td>\n<td style=\"vertical-align:top;\">\n<p><b>M5J</b><br/><span style=\"font-size:80%;\"><a href=\"/wiki/Downtown_Toronto\" title=\"Downtown Toronto\">Downtown Toronto</a><br/>(<a href=\"/wiki/Harbourfront_(Toronto)\" title=\"Harbourfront (Toronto)\">Harbourfront</a> East / <a href=\"/wiki/Union_Station_(Toronto)\" title=\"Union Station (Toronto)\">Union Station</a> / <a href=\"/wiki/Toronto_Islands\" title=\"Toronto Islands\">Toronto Islands</a>)</span>\n</p>\n</td>\n<td style=\"vertical-align:top;\">\n<p><b>M6J</b><br/><span style=\"font-size:80%;\">West Toronto<br/>(<a href=\"/wiki/Little_Portugal,_Toronto\" title=\"Little Portugal, Toronto\">Little Portugal</a> / <a class=\"mw-redirect\" href=\"/wiki/Trinity%E2%80%93Bellwoods\" title=\"Trinity\u2013Bellwoods\">Trinity</a>)</span>\n</p>\n</td>\n<td style=\"vertical-align:top; color:#ccc;\">\n<p><b>M7J</b><br/><span style=\"font-size:80%;\"><i>Not assigned</i></span>\n</p>\n</td>\n<td style=\"vertical-align:top; color:#ccc;\">\n<p><b>M8J</b><br/><span style=\"font-size:80%;\"><i>Not assigned</i></span>\n</p>\n</td>\n<td style=\"vertical-align:top; color:#ccc;\">\n<p><b>M9J</b><br/><span style=\"font-size:80%;\"><i>Not assigned</i></span>\n</p>\n</td></tr>\n<tr>\n<td style=\"vertical-align:top;\">\n<p><b>M1K</b><br/><span style=\"font-size:80%;\"><a href=\"/wiki/Scarborough,_Toronto\" title=\"Scarborough, Toronto\">Scarborough</a><br/>(<a class=\"mw-redirect\" href=\"/wiki/Kennedy_Park,_Toronto\" title=\"Kennedy Park, Toronto\">Kennedy Park</a> / <a href=\"/wiki/Ionview\" title=\"Ionview\">Ionview</a> / East <a class=\"mw-redirect\" href=\"/wiki/Birchmount_Park\" title=\"Birchmount Park\">Birchmount Park</a>)</span>\n</p>\n</td>\n<td style=\"vertical-align:top;\">\n<p><b>M2K</b><br/><span style=\"font-size:80%;\"><a href=\"/wiki/North_York\" title=\"North York\">North York</a><br/>(<a href=\"/wiki/Bayview_Village\" title=\"Bayview Village\">Bayview Village</a>)</span>\n</p>\n</td>\n<td style=\"vertical-align:top;\">\n<p><b>M3K</b><br/><span style=\"font-size:80%;\"><a href=\"/wiki/North_York\" title=\"North York\">North York</a><br/>(<a href=\"/wiki/Downsview\" title=\"Downsview\">Downsview</a>)<br/>East <br/> (<a class=\"mw-redirect\" href=\"/wiki/Canadian_Forces_Base_Toronto\" title=\"Canadian Forces Base Toronto\">CFB Toronto</a>)</span>\n</p>\n</td>\n<td style=\"vertical-align:top;\">\n<p><b>M4K</b><br/><span style=\"font-size:80%;\">East Toronto<br/>(<a class=\"mw-redirect\" href=\"/wiki/The_Danforth\" title=\"The Danforth\">The Danforth</a> West / <a href=\"/wiki/Riverdale,_Toronto\" title=\"Riverdale, Toronto\">Riverdale</a>)</span>\n</p>\n</td>\n<td style=\"vertical-align:top;\">\n<p><b>M5K</b><br/><span style=\"font-size:80%;\"><a href=\"/wiki/Downtown_Toronto\" title=\"Downtown Toronto\">Downtown Toronto</a><br/>(<a class=\"mw-redirect\" href=\"/wiki/Toronto_Dominion_Centre\" title=\"Toronto Dominion Centre\">Toronto Dominion Centre</a> / <a href=\"/wiki/Design_Exchange\" title=\"Design Exchange\">Design Exchange</a>)</span>\n</p>\n</td>\n<td style=\"vertical-align:top;\">\n<p><b>M6K</b><br/><span style=\"font-size:80%;\">West Toronto<br/>(<a class=\"mw-redirect\" href=\"/wiki/Brockton,_Toronto\" title=\"Brockton, Toronto\">Brockton</a> / <a class=\"mw-redirect\" href=\"/wiki/Parkdale_Village\" title=\"Parkdale Village\">Parkdale Village</a> / <a href=\"/wiki/Exhibition_Place\" title=\"Exhibition Place\">Exhibition Place</a>)</span>\n</p>\n</td>\n<td style=\"vertical-align:top; color:#ccc;\">\n<p><b>M7K</b><br/><span style=\"font-size:80%;\"><i>Not assigned</i></span>\n</p>\n</td>\n<td style=\"vertical-align:top; color:#ccc;\">\n<p><b>M8K</b><br/><span style=\"font-size:80%;\"><i>Not assigned</i></span>\n</p>\n</td>\n<td style=\"vertical-align:top; color:#ccc;\">\n<p><b>M9K</b><br/><span style=\"font-size:80%;\"><i>Not assigned</i></span>\n</p>\n</td></tr>\n<tr>\n<td style=\"vertical-align:top;\">\n<p><b>M1L</b><br/><span style=\"font-size:80%;\"><a href=\"/wiki/Scarborough,_Toronto\" title=\"Scarborough, Toronto\">Scarborough</a><br/>(<a href=\"/wiki/Golden_Mile,_Toronto\" title=\"Golden Mile, Toronto\">Golden Mile</a> / <a href=\"/wiki/Clairlea\" title=\"Clairlea\">Clairlea</a> / <a href=\"/wiki/Oakridge,_Toronto\" title=\"Oakridge, Toronto\">Oakridge</a>)</span>\n</p>\n</td>\n<td style=\"vertical-align:top;\">\n<p><b>M2L</b><br/><span style=\"font-size:80%;\"><a href=\"/wiki/North_York\" title=\"North York\">North York</a><br/>(<a href=\"/wiki/York_Mills\" title=\"York Mills\">York Mills</a> / Silver Hills)</span>\n</p>\n</td>\n<td style=\"vertical-align:top;\">\n<p><b>M3L</b><br/><span style=\"font-size:80%;\"><a href=\"/wiki/North_York\" title=\"North York\">North York</a><br/>(<a href=\"/wiki/Downsview\" title=\"Downsview\">Downsview</a>)<br/>West</span>\n</p>\n</td>\n<td style=\"vertical-align:top;\">\n<p><b>M4L</b><br/><span style=\"font-size:80%;\">East Toronto<br/>(<a href=\"/wiki/Gerrard_Street_(Toronto)\" title=\"Gerrard Street (Toronto)\">India Bazaar</a> / <a href=\"/wiki/The_Beaches\" title=\"The Beaches\">The Beaches</a> West)</span>\n</p>\n</td>\n<td style=\"vertical-align:top;\">\n<p><b>M5L</b><br/><span style=\"font-size:80%;\"><a href=\"/wiki/Downtown_Toronto\" title=\"Downtown Toronto\">Downtown Toronto</a><br/>(<a href=\"/wiki/Commerce_Court\" title=\"Commerce Court\">Commerce Court</a> / <a href=\"/wiki/Hotel_Victoria_(Toronto)\" title=\"Hotel Victoria (Toronto)\">Victoria Hotel</a>)</span>\n</p>\n</td>\n<td style=\"vertical-align:top;\">\n<p><b>M6L</b><br/><span style=\"font-size:80%;\"><a href=\"/wiki/North_York\" title=\"North York\">North York</a><br/>(North Park / <a href=\"/wiki/Maple_Leaf,_Toronto\" title=\"Maple Leaf, Toronto\">Maple Leaf Park</a> / Upwood Park)</span>\n</p>\n</td>\n<td style=\"vertical-align:top; color:#ccc;\">\n<p><b>M7L</b><br/><span style=\"font-size:80%;\"><i>Not assigned</i></span>\n</p>\n</td>\n<td style=\"vertical-align:top; color:#ccc;\">\n<p><b>M8L</b><br/><span style=\"font-size:80%;\"><i>Not assigned</i></span>\n</p>\n</td>\n<td style=\"vertical-align:top;\">\n<p><b>M9L</b><br/><span style=\"font-size:80%;\"><a href=\"/wiki/North_York\" title=\"North York\">North York</a><br/>(<a href=\"/wiki/Humber_Summit\" title=\"Humber Summit\">Humber Summit</a>)</span>\n</p>\n</td></tr>\n<tr>\n<td style=\"vertical-align:top;\">\n<p><b>M1M</b><br/><span style=\"font-size:80%;\"><a href=\"/wiki/Scarborough,_Toronto\" title=\"Scarborough, Toronto\">Scarborough</a><br/>(<a href=\"/wiki/Cliffside,_Toronto\" title=\"Cliffside, Toronto\">Cliffside</a> / <a href=\"/wiki/Cliffcrest\" title=\"Cliffcrest\">Cliffcrest</a> / <a href=\"/wiki/Scarborough_Village\" title=\"Scarborough Village\">Scarborough Village</a> West)</span>\n</p>\n</td>\n<td style=\"vertical-align:top;\">\n<p><b>M2M</b><br/><span style=\"font-size:80%;\"><a href=\"/wiki/North_York\" title=\"North York\">North York</a><br/>(Willowdale / <a href=\"/wiki/Newtonbrook\" title=\"Newtonbrook\">Newtonbrook</a>)</span>\n</p>\n</td>\n<td style=\"vertical-align:top;\">\n<p><b>M3M</b><br/><span style=\"font-size:80%;\"><a href=\"/wiki/North_York\" title=\"North York\">North York</a><br/>(<a href=\"/wiki/Downsview\" title=\"Downsview\">Downsview</a>)<br/>Central</span>\n</p>\n</td>\n<td style=\"vertical-align:top;\">\n<p><b>M4M</b><br/><span style=\"font-size:80%;\">East Toronto<br/>(Studio District)</span>\n</p>\n</td>\n<td style=\"vertical-align:top;\">\n<p><b>M5M</b><br/><span style=\"font-size:80%;\"><a href=\"/wiki/North_York\" title=\"North York\">North York</a><br/>(<a href=\"/wiki/Bedford_Park,_Toronto\" title=\"Bedford Park, Toronto\">Bedford Park</a> / <a href=\"/wiki/Lawrence_Manor\" title=\"Lawrence Manor\">Lawrence Manor</a> East)</span>\n</p>\n</td>\n<td style=\"vertical-align:top;\">\n<p><b>M6M</b><br/><span style=\"font-size:80%;\"><a href=\"/wiki/York,_Toronto\" title=\"York, Toronto\">York</a><br/>(Del Ray / <a href=\"/wiki/Mount_Dennis\" title=\"Mount Dennis\">Mount Dennis</a> / <a href=\"/wiki/Silverthorn,_Toronto\" title=\"Silverthorn, Toronto\">Keelsdale and Silverthorn</a>)</span>\n</p>\n</td>\n<td style=\"vertical-align:top; color:#ccc;\">\n<p><b>M7M</b><br/><span style=\"font-size:80%;\"><i>Not assigned</i></span>\n</p>\n</td>\n<td style=\"vertical-align:top; color:#ccc;\">\n<p><b>M8M</b><br/><span style=\"font-size:80%;\"><i>Not assigned</i></span>\n</p>\n</td>\n<td style=\"vertical-align:top;\">\n<p><b>M9M</b><br/><span style=\"font-size:80%;\"><a href=\"/wiki/North_York\" title=\"North York\">North York</a><br/>(<a class=\"mw-redirect\" href=\"/wiki/Humberlea\" title=\"Humberlea\">Humberlea</a> / <a class=\"mw-redirect\" href=\"/wiki/Emery,_Toronto\" title=\"Emery, Toronto\">Emery</a>)</span>\n</p>\n</td></tr>\n<tr>\n<td style=\"vertical-align:top;\">\n<p><b>M1N</b><br/><span style=\"font-size:80%;\"><a href=\"/wiki/Scarborough,_Toronto\" title=\"Scarborough, Toronto\">Scarborough</a><br/>(<a href=\"/wiki/Birch_Cliff\" title=\"Birch Cliff\">Birch Cliff</a> / <a href=\"/wiki/Cliffside,_Toronto\" title=\"Cliffside, Toronto\">Cliffside</a> West)</span>\n</p>\n</td>\n<td style=\"vertical-align:top;\">\n<p><b>M2N</b><br/><span style=\"font-size:80%;\"><a href=\"/wiki/North_York\" title=\"North York\">North York</a><br/>(<a href=\"/wiki/Willowdale,_Toronto\" title=\"Willowdale, Toronto\">Willowdale</a>)<br/>South</span>\n</p>\n</td>\n<td style=\"vertical-align:top;\">\n<p><b>M3N</b><br/><span style=\"font-size:80%;\"><a href=\"/wiki/North_York\" title=\"North York\">North York</a><br/>(<a href=\"/wiki/Downsview\" title=\"Downsview\">Downsview</a>)<br/>Northwest</span>\n</p>\n</td>\n<td style=\"vertical-align:top;\">\n<p><b>M4N</b><br/><span style=\"font-size:80%;\">Central Toronto<br/>(<a href=\"/wiki/Lawrence_Park,_Toronto\" title=\"Lawrence Park, Toronto\">Lawrence Park</a>)</span>\n</p>\n</td>\n<td style=\"vertical-align:top;\">\n<p><b>M5N</b><br/><span style=\"font-size:80%;\">Central Toronto<br/>(Roselawn)</span>\n</p>\n</td>\n<td style=\"vertical-align:top;\">\n<p><b>M6N</b><br/><span style=\"font-size:80%;\"><a href=\"/wiki/York,_Toronto\" title=\"York, Toronto\">York</a><br/>(<a href=\"/wiki/Runnymede,_Toronto\" title=\"Runnymede, Toronto\">Runnymede</a> / <a href=\"/wiki/The_Junction\" title=\"The Junction\">The Junction</a> North)</span>\n</p>\n</td>\n<td style=\"vertical-align:top; color:#ccc;\">\n<p><b>M7N</b><br/><span style=\"font-size:80%;\"><i>Not assigned</i></span>\n</p>\n</td>\n<td style=\"vertical-align:top; color:#ccc;\">\n<p><b>M8N</b><br/><span style=\"font-size:80%;\"><i>Not assigned</i></span>\n</p>\n</td>\n<td style=\"vertical-align:top;\">\n<p><b>M9N</b><br/><span style=\"font-size:80%;\"><a href=\"/wiki/York,_Toronto\" title=\"York, Toronto\">York</a><br/>(<a href=\"/wiki/Weston,_Toronto\" title=\"Weston, Toronto\">Weston</a>)</span>\n</p>\n</td></tr>\n<tr>\n<td style=\"vertical-align:top;\">\n<p><b>M1P</b><br/><span style=\"font-size:80%;\"><a href=\"/wiki/Scarborough,_Toronto\" title=\"Scarborough, Toronto\">Scarborough</a><br/>(<a href=\"/wiki/Dorset_Park\" title=\"Dorset Park\">Dorset Park</a> / <a class=\"mw-redirect\" href=\"/wiki/Wexford_Heights\" title=\"Wexford Heights\">Wexford Heights</a> / <a href=\"/wiki/Scarborough_Town_Centre\" title=\"Scarborough Town Centre\">Scarborough Town Centre</a>)</span>\n</p>\n</td>\n<td style=\"vertical-align:top;\">\n<p><b>M2P</b><br/><span style=\"font-size:80%;\"><a href=\"/wiki/North_York\" title=\"North York\">North York</a><br/>(<a href=\"/wiki/York_Mills\" title=\"York Mills\">York Mills</a> West)</span>\n</p>\n</td>\n<td style=\"vertical-align:top; color:#ccc;\">\n<p><b>M3P</b><br/><span style=\"font-size:80%;\"><i>Not assigned</i></span>\n</p>\n</td>\n<td style=\"vertical-align:top;\">\n<p><b>M4P</b><br/><span style=\"font-size:80%;\">Central Toronto<br/>(<a href=\"/wiki/Davisville_Village\" title=\"Davisville Village\">Davisville</a> North)</span>\n</p>\n</td>\n<td style=\"vertical-align:top;\">\n<p><b>M5P</b><br/><span style=\"font-size:80%;\">Central Toronto<br/>(<a href=\"/wiki/Forest_Hill,_Toronto\" title=\"Forest Hill, Toronto\">Forest Hill</a> North &amp; West)</span>\n</p>\n</td>\n<td style=\"vertical-align:top;\">\n<p><b>M6P</b><br/><span style=\"font-size:80%;\">West Toronto<br/>(<a href=\"/wiki/High_Park\" title=\"High Park\">High Park</a> / <a href=\"/wiki/The_Junction\" title=\"The Junction\">The Junction</a> South)</span>\n</p>\n</td>\n<td style=\"vertical-align:top; color:#ccc;\">\n<p><b>M7P</b><br/><span style=\"font-size:80%;\"><i>Not assigned</i></span>\n</p>\n</td>\n<td style=\"vertical-align:top; color:#ccc;\">\n<p><b>M8P</b><br/><span style=\"font-size:80%;\"><i>Not assigned</i></span>\n</p>\n</td>\n<td style=\"vertical-align:top;\">\n<p><b>M9P</b><br/><span style=\"font-size:80%;\"><a href=\"/wiki/Etobicoke\" title=\"Etobicoke\">Etobicoke</a><br/>(Westmount)</span>\n</p>\n</td></tr>\n<tr>\n<td style=\"vertical-align:top;\">\n<p><b>M1R</b><br/><span style=\"font-size:80%;\"><a href=\"/wiki/Scarborough,_Toronto\" title=\"Scarborough, Toronto\">Scarborough</a><br/>(<a href=\"/wiki/Wexford,_Toronto\" title=\"Wexford, Toronto\">Wexford</a> / <a href=\"/wiki/Maryvale,_Toronto\" title=\"Maryvale, Toronto\">Maryvale</a>)</span>\n</p>\n</td>\n<td style=\"vertical-align:top;\">\n<p><b>M2R</b><br/><span style=\"font-size:80%;\"><a href=\"/wiki/North_York\" title=\"North York\">North York</a><br/>(<a href=\"/wiki/Willowdale,_Toronto\" title=\"Willowdale, Toronto\">Willowdale</a>)<br/>West</span>\n</p>\n</td>\n<td style=\"vertical-align:top; color:#ccc;\">\n<p><b>M3R</b><br/><span style=\"font-size:80%;\"><i>Not assigned</i></span>\n</p>\n</td>\n<td style=\"vertical-align:top;\">\n<p><b>M4R</b><br/><span style=\"font-size:80%;\">Central Toronto<br/>(<a href=\"/wiki/North_Toronto\" title=\"North Toronto\">North Toronto</a> West)</span>\n</p>\n</td>\n<td style=\"vertical-align:top;\">\n<p><b>M5R</b><br/><span style=\"font-size:80%;\">Central Toronto<br/>(<a href=\"/wiki/The_Annex\" title=\"The Annex\">The Annex</a> / <a class=\"mw-redirect\" href=\"/wiki/North_Midtown,_Toronto\" title=\"North Midtown, Toronto\">North Midtown</a> / <a href=\"/wiki/Yorkville,_Toronto\" title=\"Yorkville, Toronto\">Yorkville</a>)</span>\n</p>\n</td>\n<td style=\"vertical-align:top;\">\n<p><b>M6R</b><br/><span style=\"font-size:80%;\">West Toronto<br/>(<a href=\"/wiki/Parkdale,_Toronto\" title=\"Parkdale, Toronto\">Parkdale</a> / <a href=\"/wiki/Roncesvalles,_Toronto\" title=\"Roncesvalles, Toronto\">Roncesvalles</a>)</span>\n</p>\n</td>\n<td style=\"vertical-align:top;\">\n<p><b>M7R</b><br/><span style=\"font-size:80%;\"><a href=\"/wiki/Mississauga\" title=\"Mississauga\">Mississauga</a><br/>Canada Post Gateway Processing Centre<br/>(Enclave of L4W)</span>\n</p>\n</td>\n<td style=\"vertical-align:top; color:#ccc;\">\n<p><b>M8R</b><br/><span style=\"font-size:80%;\"><i>Not assigned</i></span>\n</p>\n</td>\n<td style=\"vertical-align:top;\">\n<p><b>M9R</b><br/><span style=\"font-size:80%;\"><a href=\"/wiki/Etobicoke\" title=\"Etobicoke\">Etobicoke</a><br/>(<a href=\"/wiki/Kingsview_Village\" title=\"Kingsview Village\">Kingsview Village</a> / St. Phillips / Martin Grove Gardens / Richview Gardens)</span>\n</p>\n</td></tr>\n<tr>\n<td style=\"vertical-align:top;\">\n<p><b>M1S</b><br/><span style=\"font-size:80%;\"><a href=\"/wiki/Scarborough,_Toronto\" title=\"Scarborough, Toronto\">Scarborough</a><br/>(<a href=\"/wiki/Agincourt,_Toronto\" title=\"Agincourt, Toronto\">Agincourt</a>) </span>\n</p>\n</td>\n<td style=\"vertical-align:top; color:#ccc;\">\n<p><b>M2S</b><br/><span style=\"font-size:80%;\"><i>Not assigned</i></span>\n</p>\n</td>\n<td style=\"vertical-align:top; color:#ccc;\">\n<p><b>M3S</b><br/><span style=\"font-size:80%;\"><i>Not assigned</i></span>\n</p>\n</td>\n<td style=\"vertical-align:top;\">\n<p><b>M4S</b><br/><span style=\"font-size:80%;\">Central Toronto<br/>(<a href=\"/wiki/Davisville_Village\" title=\"Davisville Village\">Davisville</a>)</span>\n</p>\n</td>\n<td style=\"vertical-align:top;\">\n<p><b>M5S</b><br/><span style=\"font-size:80%;\"><a href=\"/wiki/Downtown_Toronto\" title=\"Downtown Toronto\">Downtown Toronto</a><br/>(<a href=\"/wiki/University_of_Toronto\" title=\"University of Toronto\">University of Toronto</a> / Harbord)</span>\n</p>\n</td>\n<td style=\"vertical-align:top;\">\n<p><b>M6S</b><br/><span style=\"font-size:80%;\">West Toronto<br/>(<a href=\"/wiki/Runnymede,_Toronto\" title=\"Runnymede, Toronto\">Runnymede</a> / <a href=\"/wiki/Swansea,_Toronto\" title=\"Swansea, Toronto\">Swansea</a>)</span>\n</p>\n</td>\n<td style=\"vertical-align:top; color:#ccc;\">\n<p><b>M7S</b><br/><span style=\"font-size:80%;\"><i>Not assigned</i></span>\n</p>\n</td>\n<td style=\"vertical-align:top; color:#ccc;\">\n<p><b>M8S</b><br/><span style=\"font-size:80%;\"><i>Not assigned</i></span>\n</p>\n</td>\n<td style=\"vertical-align:top; color:#ccc;\">\n<p><b>M9S</b><br/><span style=\"font-size:80%;\"><i>Not assigned</i></span>\n</p>\n</td></tr>\n<tr>\n<td style=\"vertical-align:top;\">\n<p><b>M1T</b><br/><span style=\"font-size:80%;\"><a href=\"/wiki/Scarborough,_Toronto\" title=\"Scarborough, Toronto\">Scarborough</a><br/>(Clarks Corners / <a class=\"mw-redirect\" href=\"/wiki/Tam_O%27Shanter,_Ontario\" title=\"Tam O'Shanter, Ontario\">Tam O'Shanter</a> / <a class=\"mw-redirect\" href=\"/wiki/Sullivan,_Toronto\" title=\"Sullivan, Toronto\">Sullivan</a>)</span>\n</p>\n</td>\n<td style=\"vertical-align:top; color:#ccc;\">\n<p><b>M2T</b><br/><span style=\"font-size:80%;\"><i>Not assigned</i></span>\n</p>\n</td>\n<td style=\"vertical-align:top; color:#ccc;\">\n<p><b>M3T</b><br/><span style=\"font-size:80%;\"><i>Not assigned</i></span>\n</p>\n</td>\n<td style=\"vertical-align:top;\">\n<p><b>M4T</b><br/><span style=\"font-size:80%;\">Central Toronto<br/>(<a href=\"/wiki/Moore_Park,_Toronto\" title=\"Moore Park, Toronto\">Moore Park</a> / <a href=\"/wiki/Summerhill,_Toronto\" title=\"Summerhill, Toronto\">Summerhill</a> East)</span>\n</p>\n</td>\n<td style=\"vertical-align:top;\">\n<p><b>M5T</b><br/><span style=\"font-size:80%;\"><a href=\"/wiki/Downtown_Toronto\" title=\"Downtown Toronto\">Downtown Toronto</a><br/>(<a href=\"/wiki/Kensington_Market\" title=\"Kensington Market\">Kensington Market</a> / <a href=\"/wiki/Chinatown,_Toronto\" title=\"Chinatown, Toronto\">Chinatown</a> / <a href=\"/wiki/Grange_Park_(Toronto)\" title=\"Grange Park (Toronto)\">Grange Park</a>)</span>\n</p>\n</td>\n<td style=\"vertical-align:top; color:#ccc;\">\n<p><b>M6T</b><br/><span style=\"font-size:80%;\"><i>Not assigned</i></span>\n</p>\n</td>\n<td style=\"vertical-align:top; color:#ccc;\">\n<p><b>M7T</b><br/><span style=\"font-size:80%;\"><i>Not assigned</i></span>\n</p>\n</td>\n<td style=\"vertical-align:top; color:#ccc;\">\n<p><b>M8T</b><br/><span style=\"font-size:80%;\"><i>Not assigned</i></span>\n</p>\n</td>\n<td style=\"vertical-align:top; color:#ccc;\">\n<p><b>M9T</b><br/><span style=\"font-size:80%;\"><i>Not assigned</i></span>\n</p>\n</td></tr>\n<tr>\n<td style=\"vertical-align:top;\">\n<p><b>M1V</b><br/><span style=\"font-size:80%;\"><a href=\"/wiki/Scarborough,_Toronto\" title=\"Scarborough, Toronto\">Scarborough</a><br/>(<a class=\"mw-redirect\" href=\"/wiki/Milliken,_Toronto\" title=\"Milliken, Toronto\">Milliken</a> / <a class=\"mw-redirect\" href=\"/wiki/Agincourt_North\" title=\"Agincourt North\">Agincourt North</a> / <a href=\"/wiki/Steeles,_Toronto\" title=\"Steeles, Toronto\">Steeles</a> East / <a href=\"/wiki/L%27Amoreaux\" title=\"L'Amoreaux\">L'Amoreaux</a> East)</span>\n</p>\n</td>\n<td style=\"vertical-align:top; color:#ccc;\">\n<p><b>M2V</b><br/><span style=\"font-size:80%;\"><i>Not assigned</i></span>\n</p>\n</td>\n<td style=\"vertical-align:top; color:#ccc;\">\n<p><b>M3V</b><br/><span style=\"font-size:80%;\"><i>Not assigned</i></span>\n</p>\n</td>\n<td style=\"vertical-align:top;\">\n<p><b>M4V</b><br/><span style=\"font-size:80%;\">Central Toronto<br/>(<a href=\"/wiki/Summerhill,_Toronto\" title=\"Summerhill, Toronto\">Summerhill</a> West / <a class=\"mw-redirect\" href=\"/wiki/Rathnelly\" title=\"Rathnelly\">Rathnelly</a> / <a href=\"/wiki/South_Hill,_Toronto\" title=\"South Hill, Toronto\">South Hill</a> / <a href=\"/wiki/Forest_Hill,_Toronto\" title=\"Forest Hill, Toronto\">Forest Hill</a> SE / <a href=\"/wiki/Deer_Park,_Toronto\" title=\"Deer Park, Toronto\">Deer Park</a>)</span>\n</p>\n</td>\n<td style=\"vertical-align:top;\">\n<p><b>M5V</b><br/><span style=\"font-size:80%;\"><a href=\"/wiki/Downtown_Toronto\" title=\"Downtown Toronto\">Downtown Toronto</a><br/>(<a href=\"/wiki/CN_Tower\" title=\"CN Tower\">CN Tower</a> / <a class=\"mw-redirect\" href=\"/wiki/King_and_Spadina\" title=\"King and Spadina\">King and Spadina</a> / <a href=\"/wiki/Railway_Lands\" title=\"Railway Lands\">Railway Lands</a> / <a href=\"/wiki/Harbourfront_(Toronto)\" title=\"Harbourfront (Toronto)\">Harbourfront</a> West / Bathurst Quay / <a class=\"mw-redirect\" href=\"/wiki/South_Niagara\" title=\"South Niagara\">South Niagara</a> / <a href=\"/wiki/Billy_Bishop_Toronto_City_Airport\" title=\"Billy Bishop Toronto City Airport\">Island airport</a>)</span>\n</p>\n</td>\n<td style=\"vertical-align:top; color:#ccc;\">\n<p><b>M6V</b><br/><span style=\"font-size:80%;\"><i>Not assigned</i></span>\n</p>\n</td>\n<td style=\"vertical-align:top; color:#ccc;\">\n<p><b>M7V</b><br/><span style=\"font-size:80%;\"><i>Not assigned</i></span>\n</p>\n</td>\n<td style=\"vertical-align:top;\">\n<p><b>M8V</b><br/><span style=\"font-size:80%;\"><a href=\"/wiki/Etobicoke\" title=\"Etobicoke\">Etobicoke</a><br/>(<a href=\"/wiki/New_Toronto\" title=\"New Toronto\">New Toronto</a> / <a href=\"/wiki/Mimico\" title=\"Mimico\">Mimico</a> South / Humber Bay Shores)</span>\n</p>\n</td>\n<td style=\"vertical-align:top;\">\n<p><b>M9V</b><br/><span style=\"font-size:80%;\"><a href=\"/wiki/Etobicoke\" title=\"Etobicoke\">Etobicoke</a><br/>(<a class=\"mw-redirect\" href=\"/wiki/South_Steeles\" title=\"South Steeles\">South Steeles</a> / <a class=\"mw-redirect\" href=\"/wiki/Silverstone,_Toronto\" title=\"Silverstone, Toronto\">Silverstone</a> / Humbergate / <a class=\"mw-redirect\" href=\"/wiki/Jamestown,_Toronto\" title=\"Jamestown, Toronto\">Jamestown</a> / <a class=\"mw-redirect\" href=\"/wiki/Mount_Olive,_Toronto\" title=\"Mount Olive, Toronto\">Mount Olive</a> / <a class=\"mw-redirect\" href=\"/wiki/Beaumond_Heights\" title=\"Beaumond Heights\">Beaumond Heights</a> / <a href=\"/wiki/Thistletown\" title=\"Thistletown\">Thistletown</a> / Albion Gardens)</span>\n</p>\n</td></tr>\n<tr>\n<td style=\"vertical-align:top;\">\n<p><b>M1W</b><br/><span style=\"font-size:80%;\"><a href=\"/wiki/Scarborough,_Toronto\" title=\"Scarborough, Toronto\">Scarborough</a><br/>(<a href=\"/wiki/Steeles,_Toronto\" title=\"Steeles, Toronto\">Steeles</a> West / <a href=\"/wiki/L%27Amoreaux\" title=\"L'Amoreaux\">L'Amoreaux</a> West)</span>\n</p>\n</td>\n<td style=\"vertical-align:top; color:#ccc;\">\n<p><b>M2W</b><br/><span style=\"font-size:80%;\"><i>Not assigned</i></span>\n</p>\n</td>\n<td style=\"vertical-align:top; color:#ccc;\">\n<p><b>M3W</b><br/><span style=\"font-size:80%;\"><i>Not assigned</i></span>\n</p>\n</td>\n<td style=\"vertical-align:top;\">\n<p><b>M4W</b><br/><span style=\"font-size:80%;\"><a href=\"/wiki/Downtown_Toronto\" title=\"Downtown Toronto\">Downtown Toronto</a><br/>(<a href=\"/wiki/Rosedale,_Toronto\" title=\"Rosedale, Toronto\">Rosedale</a>)</span>\n</p>\n</td>\n<td style=\"vertical-align:top;\">\n<p><b>M5W</b><br/><span style=\"font-size:80%;\"><a href=\"/wiki/Downtown_Toronto\" title=\"Downtown Toronto\">Downtown Toronto</a><br/>Stn A PO Boxes<br/>25 The Esplanade<br/>(Enclave of M5E)</span>\n</p>\n</td>\n<td style=\"vertical-align:top; color:#ccc;\">\n<p><b>M6W</b><br/><span style=\"font-size:80%;\"><i>Not assigned</i></span>\n</p>\n</td>\n<td style=\"vertical-align:top; color:#ccc;\">\n<p><b>M7W</b><br/><span style=\"font-size:80%;\"><i>Not assigned</i></span>\n</p>\n</td>\n<td style=\"vertical-align:top;\">\n<p><b>M8W</b><br/><span style=\"font-size:80%;\"><a href=\"/wiki/Etobicoke\" title=\"Etobicoke\">Etobicoke</a><br/>(<a href=\"/wiki/Alderwood,_Toronto\" title=\"Alderwood, Toronto\">Alderwood</a> / <a href=\"/wiki/Long_Branch,_Toronto\" title=\"Long Branch, Toronto\">Long Branch</a>)</span>\n</p>\n</td>\n<td style=\"vertical-align:top;\">\n<p><b>M9W</b><br/><span style=\"font-size:80%;\"><a href=\"/wiki/Etobicoke\" title=\"Etobicoke\">Etobicoke</a><br/>Northwest<br/>(<a href=\"/wiki/Clairville,_Toronto\" title=\"Clairville, Toronto\">Clairville</a> / <a href=\"/wiki/Humberwood\" title=\"Humberwood\">Humberwood</a> / <a class=\"mw-redirect\" href=\"/wiki/Woodbine_Downs\" title=\"Woodbine Downs\">Woodbine Downs</a> / West Humber / Kipling Heights / <a href=\"/wiki/Rexdale\" title=\"Rexdale\">Rexdale</a> / <a class=\"mw-redirect\" href=\"/wiki/Elms,_Toronto\" title=\"Elms, Toronto\">Elms</a> / Tandridge / Old Rexdale)</span>\n</p>\n</td></tr>\n<tr>\n<td style=\"vertical-align:top;\">\n<p><b>M1X</b><br/><span style=\"font-size:80%;\"><a href=\"/wiki/Scarborough,_Toronto\" title=\"Scarborough, Toronto\">Scarborough</a><br/>(<a class=\"mw-redirect\" href=\"/wiki/Upper_Rouge\" title=\"Upper Rouge\">Upper Rouge</a>)</span>\n</p>\n</td>\n<td style=\"vertical-align:top; color:#ccc;\">\n<p><b>M2X</b><br/><span style=\"font-size:80%;\"><i>Not assigned</i></span>\n</p>\n</td>\n<td style=\"vertical-align:top; color:#ccc;\">\n<p><b>M3X</b><br/><span style=\"font-size:80%;\"><i>Not assigned</i></span>\n</p>\n</td>\n<td style=\"vertical-align:top;\">\n<p><b>M4X</b><br/><span style=\"font-size:80%;\"><a href=\"/wiki/Downtown_Toronto\" title=\"Downtown Toronto\">Downtown Toronto</a><br/>(<a href=\"/wiki/St._James_Town\" title=\"St. James Town\">St. James Town</a> / <a class=\"mw-redirect\" href=\"/wiki/Cabbagetown_(Toronto)\" title=\"Cabbagetown (Toronto)\">Cabbagetown</a>)</span>\n</p>\n</td>\n<td style=\"vertical-align:top;\">\n<p><b>M5X</b><br/><span style=\"font-size:80%;\"><a href=\"/wiki/Downtown_Toronto\" title=\"Downtown Toronto\">Downtown Toronto</a><br/>(<a href=\"/wiki/First_Canadian_Place\" title=\"First Canadian Place\">First Canadian Place</a> / <a href=\"/wiki/PATH_(Toronto)\" title=\"PATH (Toronto)\">Underground city</a>)</span>\n</p>\n</td>\n<td style=\"vertical-align:top; color:#ccc;\">\n<p><b>M6X</b><br/><span style=\"font-size:80%;\"><i>Not assigned</i></span>\n</p>\n</td>\n<td style=\"vertical-align:top; color:#ccc;\">\n<p><b>M7X</b><br/><span style=\"font-size:80%;\"><i>Not assigned</i></span>\n</p>\n</td>\n<td style=\"vertical-align:top;\">\n<p><b>M8X</b><br/><span style=\"font-size:80%;\"><a href=\"/wiki/Etobicoke\" title=\"Etobicoke\">Etobicoke</a><br/>(<a href=\"/wiki/The_Kingsway\" title=\"The Kingsway\">The Kingsway</a> / Montgomery Road / <a href=\"/wiki/Old_Mill,_Toronto\" title=\"Old Mill, Toronto\">Old Mill</a> North)</span>\n</p>\n</td>\n<td style=\"vertical-align:top; color:#ccc;\">\n<p><b>M9X</b><br/><span style=\"font-size:80%;\"><i>Not assigned</i></span>\n</p>\n</td></tr>\n<tr>\n<td style=\"vertical-align:top; color:#ccc;\">\n<p><b>M1Y</b><br/><span style=\"font-size:80%;\"><i>Not assigned</i></span>\n</p>\n</td>\n<td style=\"vertical-align:top; color:#ccc;\">\n<p><b>M2Y</b><br/><span style=\"font-size:80%;\"><i>Not assigned</i></span>\n</p>\n</td>\n<td style=\"vertical-align:top; color:#ccc;\">\n<p><b>M3Y</b><br/><span style=\"font-size:80%;\"><i>Not assigned</i></span>\n</p>\n</td>\n<td style=\"vertical-align:top;\">\n<p><b>M4Y</b><br/><span style=\"font-size:80%;\"><a href=\"/wiki/Downtown_Toronto\" title=\"Downtown Toronto\">Downtown Toronto</a><br/>(<a href=\"/wiki/Church_and_Wellesley\" title=\"Church and Wellesley\">Church and Wellesley</a>)</span>\n</p>\n</td>\n<td style=\"vertical-align:top; color:#ccc;\">\n<p><b>M5Y</b><br/><span style=\"font-size:80%;\"><i>Not assigned</i></span>\n</p>\n</td>\n<td style=\"vertical-align:top; color:#ccc;\">\n<p><b>M6Y</b><br/><span style=\"font-size:80%;\"><i>Not assigned</i></span>\n</p>\n</td>\n<td style=\"vertical-align:top;\">\n<p><b>M7Y</b><br/><span style=\"font-size:80%;\">East Toronto<br/><a class=\"mw-redirect\" href=\"/wiki/Business_reply_mail\" title=\"Business reply mail\">Business reply mail</a> Processing Centre<br/>969 Eastern<br/>(Enclave of M4L)</span>\n</p>\n</td>\n<td style=\"vertical-align:top;\">\n<p><b>M8Y</b><br/><span style=\"font-size:80%;\"><a href=\"/wiki/Etobicoke\" title=\"Etobicoke\">Etobicoke</a><br/>(<a href=\"/wiki/Old_Mill,_Toronto\" title=\"Old Mill, Toronto\">Old Mill</a> South / King's Mill Park / <a class=\"mw-redirect\" href=\"/wiki/Sunnylea\" title=\"Sunnylea\">Sunnylea</a> / <a href=\"/wiki/Humber_Bay\" title=\"Humber Bay\">Humber Bay</a> / <a href=\"/wiki/Mimico\" title=\"Mimico\">Mimico</a> NE / <a class=\"mw-redirect\" href=\"/wiki/The_Queensway_(Toronto)\" title=\"The Queensway (Toronto)\">The Queensway</a> East / Royal York South East / Kingsway Park South East)</span>\n</p>\n</td>\n<td style=\"vertical-align:top; color:#ccc;\">\n<p><b>M9Y</b><br/><span style=\"font-size:80%;\"><i>Not assigned</i></span>\n</p>\n</td></tr>\n<tr>\n<td style=\"vertical-align:top; color:#ccc;\">\n<p><b>M1Z</b><br/><span style=\"font-size:80%;\"><i>Not assigned</i></span>\n</p>\n</td>\n<td style=\"vertical-align:top; color:#ccc;\">\n<p><b>M2Z</b><br/><span style=\"font-size:80%;\"><i>Not assigned</i></span>\n</p>\n</td>\n<td style=\"vertical-align:top; color:#ccc;\">\n<p><b>M3Z</b><br/><span style=\"font-size:80%;\"><i>Not assigned</i></span>\n</p>\n</td>\n<td style=\"vertical-align:top; color:#ccc;\">\n<p><b>M4Z</b><br/><span style=\"font-size:80%;\"><i>Not assigned</i></span>\n</p>\n</td>\n<td style=\"vertical-align:top; color:#ccc;\">\n<p><b>M5Z</b><br/><span style=\"font-size:80%;\"><i>Not assigned</i></span>\n</p>\n</td>\n<td style=\"vertical-align:top; color:#ccc;\">\n<p><b>M6Z</b><br/><span style=\"font-size:80%;\"><i>Not assigned</i></span>\n</p>\n</td>\n<td style=\"vertical-align:top; color:#ccc;\">\n<p><b>M7Z</b><br/><span style=\"font-size:80%;\"><i>Not assigned</i></span>\n</p>\n</td>\n<td style=\"vertical-align:top;\">\n<p><b>M8Z</b><br/><span style=\"font-size:80%;\"><a href=\"/wiki/Etobicoke\" title=\"Etobicoke\">Etobicoke</a><br/>(<a href=\"/wiki/Mimico\" title=\"Mimico\">Mimico</a> NW / <a href=\"/wiki/The_Queensway\" title=\"The Queensway\">The Queensway</a> West / South of Bloor / Kingsway Park South West / Royal York South West)</span>\n</p>\n</td>\n<td style=\"vertical-align:top; color:#ccc;\">\n<p><b>M9Z</b><br/><span style=\"font-size:80%;\"><i>Not assigned</i></span>\n</p>\n</td></tr></tbody></table>"
                    },
                    "metadata": {},
                    "output_type": "display_data"
                }
            ],
            "source": "source = requests.get('https://en.wikipedia.org/wiki/List_of_postal_codes_of_Canada:_M').text\nsoup=BeautifulSoup(source,'lxml')\nprint(soup.title)\nfrom IPython.display import display_html\ntab = str(soup.table)\ndisplay_html(tab,raw=True)"
        },
        {
            "cell_type": "code",
            "execution_count": 78,
            "metadata": {},
            "outputs": [
                {
                    "name": "stdout",
                    "output_type": "stream",
                    "text": "Dataframe shape:  (20, 9)\n"
                }
            ],
            "source": "print(\"Dataframe shape: \", df.shape)"
        },
        {
            "cell_type": "markdown",
            "metadata": {},
            "source": "## Problem 2/ Segmenting and Clustering Neighborhoods in Toronto"
        },
        {
            "cell_type": "code",
            "execution_count": 79,
            "metadata": {},
            "outputs": [],
            "source": "import pandas as pd\nimport requests\nfrom bs4 import BeautifulSoup"
        },
        {
            "cell_type": "code",
            "execution_count": 80,
            "metadata": {},
            "outputs": [],
            "source": "List_url = \"https://en.wikipedia.org/wiki/List_of_postal_codes_of_Canada:_M\"\nsource = requests.get(List_url).text"
        },
        {
            "cell_type": "code",
            "execution_count": 81,
            "metadata": {},
            "outputs": [],
            "source": "soup = BeautifulSoup(source, 'xml')"
        },
        {
            "cell_type": "code",
            "execution_count": 82,
            "metadata": {},
            "outputs": [],
            "source": "table=soup.find('table')"
        },
        {
            "cell_type": "code",
            "execution_count": 84,
            "metadata": {},
            "outputs": [],
            "source": "column_names=['Postalcode','Borough','Neighbourhood']\ndf = pd.DataFrame(columns=column_names)"
        },
        {
            "cell_type": "code",
            "execution_count": 85,
            "metadata": {},
            "outputs": [],
            "source": "for tr_cell in table.find_all('tr'):\n    row_data=[]\n    for td_cell in tr_cell.find_all('td'):\n        row_data.append(td_cell.text.strip())\n    if len(row_data)==3:\n        df.loc[len(df)] = row_data"
        },
        {
            "cell_type": "code",
            "execution_count": 86,
            "metadata": {},
            "outputs": [
                {
                    "data": {
                        "text/html": "<div>\n<style scoped>\n    .dataframe tbody tr th:only-of-type {\n        vertical-align: middle;\n    }\n\n    .dataframe tbody tr th {\n        vertical-align: top;\n    }\n\n    .dataframe thead th {\n        text-align: right;\n    }\n</style>\n<table border=\"1\" class=\"dataframe\">\n  <thead>\n    <tr style=\"text-align: right;\">\n      <th></th>\n      <th>Postalcode</th>\n      <th>Borough</th>\n      <th>Neighbourhood</th>\n    </tr>\n  </thead>\n  <tbody>\n  </tbody>\n</table>\n</div>",
                        "text/plain": "Empty DataFrame\nColumns: [Postalcode, Borough, Neighbourhood]\nIndex: []"
                    },
                    "execution_count": 86,
                    "metadata": {},
                    "output_type": "execute_result"
                }
            ],
            "source": "df.head()"
        },
        {
            "cell_type": "code",
            "execution_count": 87,
            "metadata": {},
            "outputs": [],
            "source": "df=df[df['Borough']!='Not assigned']"
        },
        {
            "cell_type": "code",
            "execution_count": 88,
            "metadata": {},
            "outputs": [
                {
                    "data": {
                        "text/html": "<div>\n<style scoped>\n    .dataframe tbody tr th:only-of-type {\n        vertical-align: middle;\n    }\n\n    .dataframe tbody tr th {\n        vertical-align: top;\n    }\n\n    .dataframe thead th {\n        text-align: right;\n    }\n</style>\n<table border=\"1\" class=\"dataframe\">\n  <thead>\n    <tr style=\"text-align: right;\">\n      <th></th>\n      <th>Postalcode</th>\n      <th>Borough</th>\n      <th>Neighbourhood</th>\n    </tr>\n  </thead>\n  <tbody>\n  </tbody>\n</table>\n</div>",
                        "text/plain": "Empty DataFrame\nColumns: [Postalcode, Borough, Neighbourhood]\nIndex: []"
                    },
                    "execution_count": 88,
                    "metadata": {},
                    "output_type": "execute_result"
                }
            ],
            "source": "df[df['Neighbourhood']=='Not assigned']=df['Borough']\ndf.head()"
        },
        {
            "cell_type": "code",
            "execution_count": 90,
            "metadata": {},
            "outputs": [],
            "source": "temp_df=df.groupby('Postalcode')['Neighbourhood'].apply(lambda x: \"%s\" % ', '.join(x))\ntemp_df=temp_df.reset_index(drop=False)\ntemp_df.rename(columns={'Neighbourhood':'Neighbourhood_joined'},inplace=True)"
        },
        {
            "cell_type": "code",
            "execution_count": 91,
            "metadata": {},
            "outputs": [],
            "source": "df_merge = pd.merge(df, temp_df, on='Postalcode')"
        },
        {
            "cell_type": "code",
            "execution_count": 92,
            "metadata": {},
            "outputs": [],
            "source": "df_merge.drop(['Neighbourhood'],axis=1,inplace=True)"
        },
        {
            "cell_type": "code",
            "execution_count": 93,
            "metadata": {},
            "outputs": [
                {
                    "data": {
                        "text/html": "<div>\n<style scoped>\n    .dataframe tbody tr th:only-of-type {\n        vertical-align: middle;\n    }\n\n    .dataframe tbody tr th {\n        vertical-align: top;\n    }\n\n    .dataframe thead th {\n        text-align: right;\n    }\n</style>\n<table border=\"1\" class=\"dataframe\">\n  <thead>\n    <tr style=\"text-align: right;\">\n      <th></th>\n      <th>Borough</th>\n      <th>Postalcode</th>\n      <th>Neighbourhood_joined</th>\n    </tr>\n  </thead>\n  <tbody>\n  </tbody>\n</table>\n</div>",
                        "text/plain": "Empty DataFrame\nColumns: [Borough, Postalcode, Neighbourhood_joined]\nIndex: []"
                    },
                    "execution_count": 93,
                    "metadata": {},
                    "output_type": "execute_result"
                }
            ],
            "source": "df_merge.drop_duplicates(inplace=True)"
        },
        {
            "cell_type": "code",
            "execution_count": 94,
            "metadata": {},
            "outputs": [
                {
                    "data": {
                        "text/html": "<div>\n<style scoped>\n    .dataframe tbody tr th:only-of-type {\n        vertical-align: middle;\n    }\n\n    .dataframe tbody tr th {\n        vertical-align: top;\n    }\n\n    .dataframe thead th {\n        text-align: right;\n    }\n</style>\n<table border=\"1\" class=\"dataframe\">\n  <thead>\n    <tr style=\"text-align: right;\">\n      <th></th>\n      <th>Borough</th>\n      <th>Postalcode</th>\n      <th>Neighbourhood</th>\n    </tr>\n  </thead>\n  <tbody>\n  </tbody>\n</table>\n</div>",
                        "text/plain": "Empty DataFrame\nColumns: [Borough, Postalcode, Neighbourhood]\nIndex: []"
                    },
                    "execution_count": 94,
                    "metadata": {},
                    "output_type": "execute_result"
                }
            ],
            "source": "df_merge.rename(columns={'Neighbourhood_joined':'Neighbourhood'},inplace=True)\ndf_merge.head()"
        },
        {
            "cell_type": "code",
            "execution_count": 95,
            "metadata": {},
            "outputs": [
                {
                    "data": {
                        "text/plain": "(0, 3)"
                    },
                    "execution_count": 95,
                    "metadata": {},
                    "output_type": "execute_result"
                }
            ],
            "source": "df_merge.shape"
        },
        {
            "cell_type": "code",
            "execution_count": 96,
            "metadata": {},
            "outputs": [],
            "source": "def get_geocode(postal_code):\n    # initialize your variable to None\n    lat_lng_coords = None\n    while(lat_lng_coords is None):\n        g = geocoder.google('{}, Toronto, Ontario'.format(postal_code))\n        lat_lng_coords = g.latlng\n    latitude = lat_lng_coords[0]\n    longitude = lat_lng_coords[1]\n    return latitude,longitude"
        },
        {
            "cell_type": "code",
            "execution_count": 97,
            "metadata": {},
            "outputs": [],
            "source": "geo_df=pd.read_csv('http://cocl.us/Geospatial_data')"
        },
        {
            "cell_type": "code",
            "execution_count": 98,
            "metadata": {},
            "outputs": [
                {
                    "data": {
                        "text/html": "<div>\n<style scoped>\n    .dataframe tbody tr th:only-of-type {\n        vertical-align: middle;\n    }\n\n    .dataframe tbody tr th {\n        vertical-align: top;\n    }\n\n    .dataframe thead th {\n        text-align: right;\n    }\n</style>\n<table border=\"1\" class=\"dataframe\">\n  <thead>\n    <tr style=\"text-align: right;\">\n      <th></th>\n      <th>Postal Code</th>\n      <th>Latitude</th>\n      <th>Longitude</th>\n    </tr>\n  </thead>\n  <tbody>\n    <tr>\n      <th>0</th>\n      <td>M1B</td>\n      <td>43.806686</td>\n      <td>-79.194353</td>\n    </tr>\n    <tr>\n      <th>1</th>\n      <td>M1C</td>\n      <td>43.784535</td>\n      <td>-79.160497</td>\n    </tr>\n    <tr>\n      <th>2</th>\n      <td>M1E</td>\n      <td>43.763573</td>\n      <td>-79.188711</td>\n    </tr>\n    <tr>\n      <th>3</th>\n      <td>M1G</td>\n      <td>43.770992</td>\n      <td>-79.216917</td>\n    </tr>\n    <tr>\n      <th>4</th>\n      <td>M1H</td>\n      <td>43.773136</td>\n      <td>-79.239476</td>\n    </tr>\n  </tbody>\n</table>\n</div>",
                        "text/plain": "  Postal Code   Latitude  Longitude\n0         M1B  43.806686 -79.194353\n1         M1C  43.784535 -79.160497\n2         M1E  43.763573 -79.188711\n3         M1G  43.770992 -79.216917\n4         M1H  43.773136 -79.239476"
                    },
                    "execution_count": 98,
                    "metadata": {},
                    "output_type": "execute_result"
                }
            ],
            "source": "geo_df.head()"
        },
        {
            "cell_type": "code",
            "execution_count": 99,
            "metadata": {},
            "outputs": [],
            "source": "geo_df.rename(columns={'Postal Code':'Postalcode'},inplace=True)\ngeo_merged = pd.merge(geo_df, df_merge, on='Postalcode')"
        },
        {
            "cell_type": "code",
            "execution_count": 100,
            "metadata": {},
            "outputs": [],
            "source": "geo_data=geo_merged[['Postalcode','Borough','Neighbourhood','Latitude','Longitude']]"
        },
        {
            "cell_type": "code",
            "execution_count": 101,
            "metadata": {},
            "outputs": [
                {
                    "data": {
                        "text/html": "<div>\n<style scoped>\n    .dataframe tbody tr th:only-of-type {\n        vertical-align: middle;\n    }\n\n    .dataframe tbody tr th {\n        vertical-align: top;\n    }\n\n    .dataframe thead th {\n        text-align: right;\n    }\n</style>\n<table border=\"1\" class=\"dataframe\">\n  <thead>\n    <tr style=\"text-align: right;\">\n      <th></th>\n      <th>Postalcode</th>\n      <th>Borough</th>\n      <th>Neighbourhood</th>\n      <th>Latitude</th>\n      <th>Longitude</th>\n    </tr>\n  </thead>\n  <tbody>\n  </tbody>\n</table>\n</div>",
                        "text/plain": "Empty DataFrame\nColumns: [Postalcode, Borough, Neighbourhood, Latitude, Longitude]\nIndex: []"
                    },
                    "execution_count": 101,
                    "metadata": {},
                    "output_type": "execute_result"
                }
            ],
            "source": "geo_data.head()"
        },
        {
            "cell_type": "code",
            "execution_count": null,
            "metadata": {},
            "outputs": [],
            "source": ""
        }
    ],
    "metadata": {
        "kernelspec": {
            "display_name": "Python 3.6",
            "language": "python",
            "name": "python3"
        },
        "language_info": {
            "codemirror_mode": {
                "name": "ipython",
                "version": 3
            },
            "file_extension": ".py",
            "mimetype": "text/x-python",
            "name": "python",
            "nbconvert_exporter": "python",
            "pygments_lexer": "ipython3",
            "version": "3.6.9"
        }
    },
    "nbformat": 4,
    "nbformat_minor": 1
}